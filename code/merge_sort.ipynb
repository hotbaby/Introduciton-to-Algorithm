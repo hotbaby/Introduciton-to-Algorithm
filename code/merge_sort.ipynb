{
 "cells": [
  {
   "cell_type": "code",
   "execution_count": 1,
   "metadata": {},
   "outputs": [],
   "source": [
    "\"\"\"\n",
    "Merge sort\n",
    "\"\"\"\n",
    "\n",
    "def merge(sorted_seq1, sorted_seq2):\n",
    "    \"\"\"\n",
    "    Merge sorted sequence.\n",
    "    \"\"\"\n",
    "    sorted_seq = []\n",
    "    while len(sorted_seq1) > 0 and len(sorted_seq2) > 0:\n",
    "        if sorted_seq1[0] < sorted_seq2[0]:\n",
    "            sorted_seq.append(sorted_seq1.pop(0))\n",
    "        else:\n",
    "            sorted_seq.append(sorted_seq2.pop(0))\n",
    "\n",
    "    if sorted_seq1:\n",
    "        sorted_seq.extend(sorted_seq1)\n",
    "    if sorted_seq2:\n",
    "        sorted_seq.extend(sorted_seq2)\n",
    "\n",
    "    return sorted_seq\n",
    "\n",
    "\n",
    "def merge_sort(seq):\n",
    "    \"\"\"\n",
    "    Merge sort.\n",
    "    \"\"\"\n",
    "    seq_len = len(seq)\n",
    "    \n",
    "    if seq_len == 1:\n",
    "        return seq\n",
    "    else:\n",
    "        sorted_seq_left = merge_sort(seq[0:seq_len/2])\n",
    "        sorted_seq_right = merge_sort(seq[seq_len/2:])\n",
    "        return merge(sorted_seq_left, sorted_seq_right)\n"
   ]
  },
  {
   "cell_type": "code",
   "execution_count": 2,
   "metadata": {},
   "outputs": [
    {
     "name": "stdout",
     "output_type": "stream",
     "text": [
      "[8, 90, 53, 17, 9, 22, 98, 44, 71, 41]\n",
      "[8, 9, 17, 22, 41, 44, 53, 71, 90, 98]\n"
     ]
    }
   ],
   "source": [
    "import random\n",
    "\n",
    "random_seq = [random.randint(1, 100) for _ in range(10)]\n",
    "sorted_seq = merge_sort(random_seq)\n",
    "\n",
    "print random_seq\n",
    "print sorted_seq"
   ]
  },
  {
   "cell_type": "code",
   "execution_count": null,
   "metadata": {},
   "outputs": [],
   "source": []
  }
 ],
 "metadata": {
  "kernelspec": {
   "display_name": "Python 2",
   "language": "python",
   "name": "python2"
  },
  "language_info": {
   "codemirror_mode": {
    "name": "ipython",
    "version": 2
   },
   "file_extension": ".py",
   "mimetype": "text/x-python",
   "name": "python",
   "nbconvert_exporter": "python",
   "pygments_lexer": "ipython2",
   "version": "2.7.10"
  }
 },
 "nbformat": 4,
 "nbformat_minor": 2
}
