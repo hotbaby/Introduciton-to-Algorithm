{
 "cells": [
  {
   "cell_type": "code",
   "execution_count": 1,
   "metadata": {},
   "outputs": [],
   "source": [
    "\"\"\"\n",
    "Insertion sort\n",
    "\"\"\"\n",
    "def insertion_sort(seq):\n",
    "    assert isinstance(seq, list) and seq, 'seq must be list and not null!'\n",
    "    \n",
    "    sorted_seq = []\n",
    "    for i in range(len(seq)):\n",
    "        if i == 0:\n",
    "            sorted_seq.append(seq[i])\n",
    "            continue\n",
    "    \n",
    "        j = i - 1\n",
    "        while j >= 0:\n",
    "            if sorted_seq[j] > seq[i]:\n",
    "                if j == 0:\n",
    "                    sorted_seq.insert(0, seq[i])\n",
    "                    break\n",
    "                else:\n",
    "                    j -= 1\n",
    "                    continue\n",
    "            else:\n",
    "                sorted_seq.insert(j+1, seq[i])\n",
    "                break\n",
    "    \n",
    "    return sorted_seq"
   ]
  },
  {
   "cell_type": "code",
   "execution_count": 2,
   "metadata": {},
   "outputs": [
    {
     "name": "stdout",
     "output_type": "stream",
     "text": [
      "[3, 37, 11, 42, 6, 74, 24, 74, 5, 98]\n",
      "[3, 5, 6, 11, 24, 37, 42, 74, 74, 98]\n"
     ]
    }
   ],
   "source": [
    "import random\n",
    "\n",
    "random_seq = [random.randint(1, 100) for _ in range(10)]\n",
    "sorted_seq = insertion_sort(random_seq)\n",
    "\n",
    "print random_seq\n",
    "print sorted_seq"
   ]
  }
 ],
 "metadata": {
  "kernelspec": {
   "display_name": "Python 2",
   "language": "python",
   "name": "python2"
  },
  "language_info": {
   "codemirror_mode": {
    "name": "ipython",
    "version": 2
   },
   "file_extension": ".py",
   "mimetype": "text/x-python",
   "name": "python",
   "nbconvert_exporter": "python",
   "pygments_lexer": "ipython2",
   "version": "2.7.10"
  }
 },
 "nbformat": 4,
 "nbformat_minor": 2
}
